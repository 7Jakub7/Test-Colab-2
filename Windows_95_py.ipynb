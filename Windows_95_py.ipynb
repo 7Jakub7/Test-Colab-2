{
  "nbformat": 4,
  "nbformat_minor": 0,
  "metadata": {
    "colab": {
      "name": "Windows-95.py",
      "provenance": [],
      "authorship_tag": "ABX9TyMyQpdMUh+ScAyBTUh+ewZR",
      "include_colab_link": true
    },
    "kernelspec": {
      "name": "python3",
      "display_name": "Python 3"
    }
  },
  "cells": [
    {
      "cell_type": "markdown",
      "metadata": {
        "id": "view-in-github",
        "colab_type": "text"
      },
      "source": [
        "<a href=\"https://colab.research.google.com/github/7Jakub7/Test-Colab-2/blob/main/Windows_95_py.ipynb\" target=\"_parent\"><img src=\"https://colab.research.google.com/assets/colab-badge.svg\" alt=\"Open In Colab\"/></a>"
      ]
    },
    {
      "cell_type": "code",
      "metadata": {
        "colab": {
          "base_uri": "https://localhost:8080/"
        },
        "id": "9mifc-zsG8-S",
        "outputId": "ec4a98d1-c0ea-4e37-df80-ed468d61cc1e"
      },
      "source": [
        "class Windows95:\r\n",
        "  def __init__(self, w95):\r\n",
        "    self.w95 = w95\r\n",
        "\r\n",
        "  def win95(self, w95):\r\n",
        "    windows95 = \"Windows 95\"\r\n",
        "    print(f\"Running {w95}\")\r\n",
        "    return windows95\r\n",
        "\r\n",
        "wind95 = Windows95(\"Windows 95\")\r\n",
        "\r\n",
        "print(wind95.w95)"
      ],
      "execution_count": 1,
      "outputs": [
        {
          "output_type": "stream",
          "text": [
            "Windows 95\n"
          ],
          "name": "stdout"
        }
      ]
    }
  ]
}